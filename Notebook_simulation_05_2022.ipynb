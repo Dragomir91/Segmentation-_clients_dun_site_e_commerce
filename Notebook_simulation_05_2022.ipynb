{
 "cells": [
  {
   "cell_type": "code",
   "execution_count": 4,
   "id": "d466cd67",
   "metadata": {},
   "outputs": [],
   "source": [
    "import pandas as pd\n",
    "import seaborn as sns\n",
    "import numpy as np\n",
    "import matplotlib.pyplot as plt\n",
    "from sklearn.preprocessing import StandardScaler\n",
    "from yellowbrick.cluster import KElbowVisualizer, SilhouetteVisualizer\n",
    "from sklearn.metrics.cluster import adjusted_rand_score\n",
    "from sklearn.pipeline import make_pipeline\n",
    "from sklearn.cluster import KMeans\n",
    "import plotly.express as px"
   ]
  },
  {
   "cell_type": "code",
   "execution_count": 53,
   "id": "0c20bf9d",
   "metadata": {},
   "outputs": [],
   "source": [
    "df = pd.read_csv('Clenead/exploratory_data_analisis.csv')"
   ]
  },
  {
   "cell_type": "code",
   "execution_count": 54,
   "id": "de74b9d0",
   "metadata": {},
   "outputs": [
    {
     "data": {
      "text/html": [
       "<div>\n",
       "<style scoped>\n",
       "    .dataframe tbody tr th:only-of-type {\n",
       "        vertical-align: middle;\n",
       "    }\n",
       "\n",
       "    .dataframe tbody tr th {\n",
       "        vertical-align: top;\n",
       "    }\n",
       "\n",
       "    .dataframe thead th {\n",
       "        text-align: right;\n",
       "    }\n",
       "</style>\n",
       "<table border=\"1\" class=\"dataframe\">\n",
       "  <thead>\n",
       "    <tr style=\"text-align: right;\">\n",
       "      <th></th>\n",
       "      <th>customer_unique_id</th>\n",
       "      <th>number_order_item</th>\n",
       "      <th>review_score</th>\n",
       "      <th>average_payment_order</th>\n",
       "      <th>last_purchase_by_order</th>\n",
       "      <th>late_delivered_days</th>\n",
       "      <th>last_purchase_days</th>\n",
       "      <th>nb_order</th>\n",
       "      <th>log_average_payment_order</th>\n",
       "    </tr>\n",
       "  </thead>\n",
       "  <tbody>\n",
       "    <tr>\n",
       "      <th>0</th>\n",
       "      <td>0000366f3b9a7992bf8c76cfdf3221e2</td>\n",
       "      <td>1</td>\n",
       "      <td>5.0</td>\n",
       "      <td>141.90</td>\n",
       "      <td>2018-05-10 10:56:27</td>\n",
       "      <td>-5</td>\n",
       "      <td>111</td>\n",
       "      <td>1</td>\n",
       "      <td>4.962145</td>\n",
       "    </tr>\n",
       "    <tr>\n",
       "      <th>1</th>\n",
       "      <td>0000b849f77a49e4a4ce2b2a4ca5be3f</td>\n",
       "      <td>1</td>\n",
       "      <td>4.0</td>\n",
       "      <td>27.19</td>\n",
       "      <td>2018-05-07 11:11:27</td>\n",
       "      <td>-5</td>\n",
       "      <td>114</td>\n",
       "      <td>1</td>\n",
       "      <td>3.338967</td>\n",
       "    </tr>\n",
       "    <tr>\n",
       "      <th>2</th>\n",
       "      <td>0000f46a3911fa3c0805444483337064</td>\n",
       "      <td>1</td>\n",
       "      <td>3.0</td>\n",
       "      <td>86.22</td>\n",
       "      <td>2017-03-10 21:05:03</td>\n",
       "      <td>-2</td>\n",
       "      <td>536</td>\n",
       "      <td>1</td>\n",
       "      <td>4.468434</td>\n",
       "    </tr>\n",
       "    <tr>\n",
       "      <th>3</th>\n",
       "      <td>0000f6ccb0745a6a4b88665a16c9f078</td>\n",
       "      <td>1</td>\n",
       "      <td>4.0</td>\n",
       "      <td>43.62</td>\n",
       "      <td>2017-10-12 20:29:41</td>\n",
       "      <td>-12</td>\n",
       "      <td>320</td>\n",
       "      <td>1</td>\n",
       "      <td>3.798182</td>\n",
       "    </tr>\n",
       "    <tr>\n",
       "      <th>4</th>\n",
       "      <td>0004aac84e0df4da2b147fca70cf8255</td>\n",
       "      <td>1</td>\n",
       "      <td>5.0</td>\n",
       "      <td>196.89</td>\n",
       "      <td>2017-11-14 19:45:42</td>\n",
       "      <td>-8</td>\n",
       "      <td>287</td>\n",
       "      <td>1</td>\n",
       "      <td>5.287711</td>\n",
       "    </tr>\n",
       "    <tr>\n",
       "      <th>...</th>\n",
       "      <td>...</td>\n",
       "      <td>...</td>\n",
       "      <td>...</td>\n",
       "      <td>...</td>\n",
       "      <td>...</td>\n",
       "      <td>...</td>\n",
       "      <td>...</td>\n",
       "      <td>...</td>\n",
       "      <td>...</td>\n",
       "    </tr>\n",
       "    <tr>\n",
       "      <th>90581</th>\n",
       "      <td>fffcf5a5ff07b0908bd4e2dbc735a684</td>\n",
       "      <td>1</td>\n",
       "      <td>5.0</td>\n",
       "      <td>919.14</td>\n",
       "      <td>2017-06-08 21:00:36</td>\n",
       "      <td>-27</td>\n",
       "      <td>446</td>\n",
       "      <td>1</td>\n",
       "      <td>6.824526</td>\n",
       "    </tr>\n",
       "    <tr>\n",
       "      <th>90582</th>\n",
       "      <td>fffea47cd6d3cc0a88bd621562a9d061</td>\n",
       "      <td>1</td>\n",
       "      <td>4.0</td>\n",
       "      <td>84.58</td>\n",
       "      <td>2017-12-10 20:07:56</td>\n",
       "      <td>-3</td>\n",
       "      <td>261</td>\n",
       "      <td>1</td>\n",
       "      <td>4.449452</td>\n",
       "    </tr>\n",
       "    <tr>\n",
       "      <th>90583</th>\n",
       "      <td>ffff371b4d645b6ecea244b27531430a</td>\n",
       "      <td>1</td>\n",
       "      <td>5.0</td>\n",
       "      <td>112.46</td>\n",
       "      <td>2017-02-07 15:49:16</td>\n",
       "      <td>-30</td>\n",
       "      <td>567</td>\n",
       "      <td>1</td>\n",
       "      <td>4.731450</td>\n",
       "    </tr>\n",
       "    <tr>\n",
       "      <th>90584</th>\n",
       "      <td>ffff5962728ec6157033ef9805bacc48</td>\n",
       "      <td>1</td>\n",
       "      <td>5.0</td>\n",
       "      <td>133.69</td>\n",
       "      <td>2018-05-02 15:17:41</td>\n",
       "      <td>-14</td>\n",
       "      <td>118</td>\n",
       "      <td>1</td>\n",
       "      <td>4.902976</td>\n",
       "    </tr>\n",
       "    <tr>\n",
       "      <th>90585</th>\n",
       "      <td>ffffd2657e2aad2907e67c3e9daecbeb</td>\n",
       "      <td>1</td>\n",
       "      <td>5.0</td>\n",
       "      <td>71.56</td>\n",
       "      <td>2017-05-02 20:18:45</td>\n",
       "      <td>-16</td>\n",
       "      <td>483</td>\n",
       "      <td>1</td>\n",
       "      <td>4.284414</td>\n",
       "    </tr>\n",
       "  </tbody>\n",
       "</table>\n",
       "<p>90586 rows × 9 columns</p>\n",
       "</div>"
      ],
      "text/plain": [
       "                     customer_unique_id  number_order_item  review_score  \\\n",
       "0      0000366f3b9a7992bf8c76cfdf3221e2                  1           5.0   \n",
       "1      0000b849f77a49e4a4ce2b2a4ca5be3f                  1           4.0   \n",
       "2      0000f46a3911fa3c0805444483337064                  1           3.0   \n",
       "3      0000f6ccb0745a6a4b88665a16c9f078                  1           4.0   \n",
       "4      0004aac84e0df4da2b147fca70cf8255                  1           5.0   \n",
       "...                                 ...                ...           ...   \n",
       "90581  fffcf5a5ff07b0908bd4e2dbc735a684                  1           5.0   \n",
       "90582  fffea47cd6d3cc0a88bd621562a9d061                  1           4.0   \n",
       "90583  ffff371b4d645b6ecea244b27531430a                  1           5.0   \n",
       "90584  ffff5962728ec6157033ef9805bacc48                  1           5.0   \n",
       "90585  ffffd2657e2aad2907e67c3e9daecbeb                  1           5.0   \n",
       "\n",
       "       average_payment_order last_purchase_by_order  late_delivered_days  \\\n",
       "0                     141.90    2018-05-10 10:56:27                   -5   \n",
       "1                      27.19    2018-05-07 11:11:27                   -5   \n",
       "2                      86.22    2017-03-10 21:05:03                   -2   \n",
       "3                      43.62    2017-10-12 20:29:41                  -12   \n",
       "4                     196.89    2017-11-14 19:45:42                   -8   \n",
       "...                      ...                    ...                  ...   \n",
       "90581                 919.14    2017-06-08 21:00:36                  -27   \n",
       "90582                  84.58    2017-12-10 20:07:56                   -3   \n",
       "90583                 112.46    2017-02-07 15:49:16                  -30   \n",
       "90584                 133.69    2018-05-02 15:17:41                  -14   \n",
       "90585                  71.56    2017-05-02 20:18:45                  -16   \n",
       "\n",
       "       last_purchase_days  nb_order  log_average_payment_order  \n",
       "0                     111         1                   4.962145  \n",
       "1                     114         1                   3.338967  \n",
       "2                     536         1                   4.468434  \n",
       "3                     320         1                   3.798182  \n",
       "4                     287         1                   5.287711  \n",
       "...                   ...       ...                        ...  \n",
       "90581                 446         1                   6.824526  \n",
       "90582                 261         1                   4.449452  \n",
       "90583                 567         1                   4.731450  \n",
       "90584                 118         1                   4.902976  \n",
       "90585                 483         1                   4.284414  \n",
       "\n",
       "[90586 rows x 9 columns]"
      ]
     },
     "execution_count": 54,
     "metadata": {},
     "output_type": "execute_result"
    }
   ],
   "source": [
    "df"
   ]
  },
  {
   "cell_type": "markdown",
   "id": "435e7435",
   "metadata": {},
   "source": [
    "#### Evaluation de l'évolution du modèle avec le Adjusted Rand Index"
   ]
  },
  {
   "cell_type": "code",
   "execution_count": 55,
   "id": "77c5e423",
   "metadata": {},
   "outputs": [
    {
     "data": {
      "text/plain": [
       "('2016-10-03 16:56:50', '2018-08-29 15:00:37')"
      ]
     },
     "execution_count": 55,
     "metadata": {},
     "output_type": "execute_result"
    }
   ],
   "source": [
    "# Date de la plus ancienne et de la plus récente commande 2017-09-28 15:00:27\n",
    "\n",
    "df.last_purchase_by_order.min(), df.last_purchase_by_order.max()"
   ]
  },
  {
   "cell_type": "code",
   "execution_count": 56,
   "id": "23fec290",
   "metadata": {},
   "outputs": [
    {
     "data": {
      "text/html": [
       "<div>\n",
       "<style scoped>\n",
       "    .dataframe tbody tr th:only-of-type {\n",
       "        vertical-align: middle;\n",
       "    }\n",
       "\n",
       "    .dataframe tbody tr th {\n",
       "        vertical-align: top;\n",
       "    }\n",
       "\n",
       "    .dataframe thead th {\n",
       "        text-align: right;\n",
       "    }\n",
       "</style>\n",
       "<table border=\"1\" class=\"dataframe\">\n",
       "  <thead>\n",
       "    <tr style=\"text-align: right;\">\n",
       "      <th></th>\n",
       "      <th>customer_unique_id</th>\n",
       "      <th>number_order_item</th>\n",
       "      <th>review_score</th>\n",
       "      <th>average_payment_order</th>\n",
       "      <th>last_purchase_by_order</th>\n",
       "      <th>late_delivered_days</th>\n",
       "      <th>last_purchase_days</th>\n",
       "      <th>nb_order</th>\n",
       "      <th>log_average_payment_order</th>\n",
       "    </tr>\n",
       "  </thead>\n",
       "  <tbody>\n",
       "    <tr>\n",
       "      <th>16851</th>\n",
       "      <td>2f64e403852e6893ae37485d5fcacdaf</td>\n",
       "      <td>1</td>\n",
       "      <td>4.0</td>\n",
       "      <td>39.09</td>\n",
       "      <td>2016-10-03 16:56:50</td>\n",
       "      <td>-11</td>\n",
       "      <td>694</td>\n",
       "      <td>1</td>\n",
       "      <td>3.691127</td>\n",
       "    </tr>\n",
       "  </tbody>\n",
       "</table>\n",
       "</div>"
      ],
      "text/plain": [
       "                     customer_unique_id  number_order_item  review_score  \\\n",
       "16851  2f64e403852e6893ae37485d5fcacdaf                  1           4.0   \n",
       "\n",
       "       average_payment_order last_purchase_by_order  late_delivered_days  \\\n",
       "16851                  39.09    2016-10-03 16:56:50                  -11   \n",
       "\n",
       "       last_purchase_days  nb_order  log_average_payment_order  \n",
       "16851                 694         1                   3.691127  "
      ]
     },
     "execution_count": 56,
     "metadata": {},
     "output_type": "execute_result"
    }
   ],
   "source": [
    "df.loc[df.last_purchase_by_order == df.last_purchase_by_order.min()]"
   ]
  },
  {
   "cell_type": "code",
   "execution_count": 57,
   "id": "db697feb",
   "metadata": {},
   "outputs": [],
   "source": [
    "def pipe(n_clusters, scaler):\n",
    "\n",
    "    kmeans = KMeans(init = 'k-means++',n_clusters = n_clusters) \n",
    "    \n",
    "    estimator = make_pipeline(scaler, kmeans)\n",
    "    \n",
    "    return estimator"
   ]
  },
  {
   "cell_type": "code",
   "execution_count": 58,
   "id": "5162ab23",
   "metadata": {},
   "outputs": [
    {
     "data": {
      "text/plain": [
       "694"
      ]
     },
     "execution_count": 58,
     "metadata": {},
     "output_type": "execute_result"
    }
   ],
   "source": [
    "df.last_purchase_days.max()"
   ]
  },
  {
   "cell_type": "code",
   "execution_count": 59,
   "id": "406ef2c3",
   "metadata": {},
   "outputs": [
    {
     "data": {
      "text/html": [
       "<div>\n",
       "<style scoped>\n",
       "    .dataframe tbody tr th:only-of-type {\n",
       "        vertical-align: middle;\n",
       "    }\n",
       "\n",
       "    .dataframe tbody tr th {\n",
       "        vertical-align: top;\n",
       "    }\n",
       "\n",
       "    .dataframe thead th {\n",
       "        text-align: right;\n",
       "    }\n",
       "</style>\n",
       "<table border=\"1\" class=\"dataframe\">\n",
       "  <thead>\n",
       "    <tr style=\"text-align: right;\">\n",
       "      <th></th>\n",
       "      <th>customer_unique_id</th>\n",
       "      <th>number_order_item</th>\n",
       "      <th>review_score</th>\n",
       "      <th>average_payment_order</th>\n",
       "      <th>last_purchase_by_order</th>\n",
       "      <th>late_delivered_days</th>\n",
       "      <th>last_purchase_days</th>\n",
       "      <th>nb_order</th>\n",
       "      <th>log_average_payment_order</th>\n",
       "    </tr>\n",
       "  </thead>\n",
       "  <tbody>\n",
       "    <tr>\n",
       "      <th>2</th>\n",
       "      <td>0000f46a3911fa3c0805444483337064</td>\n",
       "      <td>1</td>\n",
       "      <td>3.0</td>\n",
       "      <td>86.22</td>\n",
       "      <td>2017-03-10 21:05:03</td>\n",
       "      <td>-2</td>\n",
       "      <td>536</td>\n",
       "      <td>1</td>\n",
       "      <td>4.468434</td>\n",
       "    </tr>\n",
       "    <tr>\n",
       "      <th>8</th>\n",
       "      <td>0005e1862207bf6ccc02e4228effd9a0</td>\n",
       "      <td>1</td>\n",
       "      <td>4.0</td>\n",
       "      <td>150.12</td>\n",
       "      <td>2017-03-04 23:32:12</td>\n",
       "      <td>-28</td>\n",
       "      <td>542</td>\n",
       "      <td>1</td>\n",
       "      <td>5.018074</td>\n",
       "    </tr>\n",
       "    <tr>\n",
       "      <th>10</th>\n",
       "      <td>0006fdc98a402fceb4eb0ee528f6a8d4</td>\n",
       "      <td>1</td>\n",
       "      <td>3.0</td>\n",
       "      <td>29.00</td>\n",
       "      <td>2017-07-18 09:23:10</td>\n",
       "      <td>-12</td>\n",
       "      <td>407</td>\n",
       "      <td>1</td>\n",
       "      <td>3.401197</td>\n",
       "    </tr>\n",
       "    <tr>\n",
       "      <th>14</th>\n",
       "      <td>000a5ad9c4601d2bbdd9ed765d5213b3</td>\n",
       "      <td>1</td>\n",
       "      <td>4.0</td>\n",
       "      <td>91.28</td>\n",
       "      <td>2017-08-11 13:45:15</td>\n",
       "      <td>-15</td>\n",
       "      <td>383</td>\n",
       "      <td>1</td>\n",
       "      <td>4.524827</td>\n",
       "    </tr>\n",
       "    <tr>\n",
       "      <th>15</th>\n",
       "      <td>000bfa1d2f1a41876493be685390d6d3</td>\n",
       "      <td>2</td>\n",
       "      <td>4.5</td>\n",
       "      <td>46.85</td>\n",
       "      <td>2017-09-29 14:46:58</td>\n",
       "      <td>-13</td>\n",
       "      <td>334</td>\n",
       "      <td>1</td>\n",
       "      <td>3.868071</td>\n",
       "    </tr>\n",
       "    <tr>\n",
       "      <th>...</th>\n",
       "      <td>...</td>\n",
       "      <td>...</td>\n",
       "      <td>...</td>\n",
       "      <td>...</td>\n",
       "      <td>...</td>\n",
       "      <td>...</td>\n",
       "      <td>...</td>\n",
       "      <td>...</td>\n",
       "      <td>...</td>\n",
       "    </tr>\n",
       "    <tr>\n",
       "      <th>90573</th>\n",
       "      <td>fff3a9369e4b7102fab406a334a678c3</td>\n",
       "      <td>1</td>\n",
       "      <td>5.0</td>\n",
       "      <td>102.74</td>\n",
       "      <td>2017-08-11 10:26:38</td>\n",
       "      <td>-7</td>\n",
       "      <td>383</td>\n",
       "      <td>1</td>\n",
       "      <td>4.641888</td>\n",
       "    </tr>\n",
       "    <tr>\n",
       "      <th>90576</th>\n",
       "      <td>fff699c184bcc967d62fa2c6171765f7</td>\n",
       "      <td>1</td>\n",
       "      <td>4.0</td>\n",
       "      <td>55.00</td>\n",
       "      <td>2017-09-01 17:06:54</td>\n",
       "      <td>-7</td>\n",
       "      <td>361</td>\n",
       "      <td>1</td>\n",
       "      <td>4.025352</td>\n",
       "    </tr>\n",
       "    <tr>\n",
       "      <th>90581</th>\n",
       "      <td>fffcf5a5ff07b0908bd4e2dbc735a684</td>\n",
       "      <td>1</td>\n",
       "      <td>5.0</td>\n",
       "      <td>919.14</td>\n",
       "      <td>2017-06-08 21:00:36</td>\n",
       "      <td>-27</td>\n",
       "      <td>446</td>\n",
       "      <td>1</td>\n",
       "      <td>6.824526</td>\n",
       "    </tr>\n",
       "    <tr>\n",
       "      <th>90583</th>\n",
       "      <td>ffff371b4d645b6ecea244b27531430a</td>\n",
       "      <td>1</td>\n",
       "      <td>5.0</td>\n",
       "      <td>112.46</td>\n",
       "      <td>2017-02-07 15:49:16</td>\n",
       "      <td>-30</td>\n",
       "      <td>567</td>\n",
       "      <td>1</td>\n",
       "      <td>4.731450</td>\n",
       "    </tr>\n",
       "    <tr>\n",
       "      <th>90585</th>\n",
       "      <td>ffffd2657e2aad2907e67c3e9daecbeb</td>\n",
       "      <td>1</td>\n",
       "      <td>5.0</td>\n",
       "      <td>71.56</td>\n",
       "      <td>2017-05-02 20:18:45</td>\n",
       "      <td>-16</td>\n",
       "      <td>483</td>\n",
       "      <td>1</td>\n",
       "      <td>4.284414</td>\n",
       "    </tr>\n",
       "  </tbody>\n",
       "</table>\n",
       "<p>24943 rows × 9 columns</p>\n",
       "</div>"
      ],
      "text/plain": [
       "                     customer_unique_id  number_order_item  review_score  \\\n",
       "2      0000f46a3911fa3c0805444483337064                  1           3.0   \n",
       "8      0005e1862207bf6ccc02e4228effd9a0                  1           4.0   \n",
       "10     0006fdc98a402fceb4eb0ee528f6a8d4                  1           3.0   \n",
       "14     000a5ad9c4601d2bbdd9ed765d5213b3                  1           4.0   \n",
       "15     000bfa1d2f1a41876493be685390d6d3                  2           4.5   \n",
       "...                                 ...                ...           ...   \n",
       "90573  fff3a9369e4b7102fab406a334a678c3                  1           5.0   \n",
       "90576  fff699c184bcc967d62fa2c6171765f7                  1           4.0   \n",
       "90581  fffcf5a5ff07b0908bd4e2dbc735a684                  1           5.0   \n",
       "90583  ffff371b4d645b6ecea244b27531430a                  1           5.0   \n",
       "90585  ffffd2657e2aad2907e67c3e9daecbeb                  1           5.0   \n",
       "\n",
       "       average_payment_order last_purchase_by_order  late_delivered_days  \\\n",
       "2                      86.22    2017-03-10 21:05:03                   -2   \n",
       "8                     150.12    2017-03-04 23:32:12                  -28   \n",
       "10                     29.00    2017-07-18 09:23:10                  -12   \n",
       "14                     91.28    2017-08-11 13:45:15                  -15   \n",
       "15                     46.85    2017-09-29 14:46:58                  -13   \n",
       "...                      ...                    ...                  ...   \n",
       "90573                 102.74    2017-08-11 10:26:38                   -7   \n",
       "90576                  55.00    2017-09-01 17:06:54                   -7   \n",
       "90581                 919.14    2017-06-08 21:00:36                  -27   \n",
       "90583                 112.46    2017-02-07 15:49:16                  -30   \n",
       "90585                  71.56    2017-05-02 20:18:45                  -16   \n",
       "\n",
       "       last_purchase_days  nb_order  log_average_payment_order  \n",
       "2                     536         1                   4.468434  \n",
       "8                     542         1                   5.018074  \n",
       "10                    407         1                   3.401197  \n",
       "14                    383         1                   4.524827  \n",
       "15                    334         1                   3.868071  \n",
       "...                   ...       ...                        ...  \n",
       "90573                 383         1                   4.641888  \n",
       "90576                 361         1                   4.025352  \n",
       "90581                 446         1                   6.824526  \n",
       "90583                 567         1                   4.731450  \n",
       "90585                 483         1                   4.284414  \n",
       "\n",
       "[24943 rows x 9 columns]"
      ]
     },
     "execution_count": 59,
     "metadata": {},
     "output_type": "execute_result"
    }
   ],
   "source": [
    "# df_M0 récupère toutes les commandes de 2016-10-03 au \n",
    "\n",
    "df_M0 = df.loc[df.last_purchase_days > 328]\n",
    "df_M0"
   ]
  },
  {
   "cell_type": "code",
   "execution_count": 60,
   "id": "1ce2e4fe",
   "metadata": {},
   "outputs": [
    {
     "data": {
      "text/plain": [
       "694"
      ]
     },
     "execution_count": 60,
     "metadata": {},
     "output_type": "execute_result"
    }
   ],
   "source": [
    "df.last_purchase_days.max()"
   ]
  },
  {
   "cell_type": "code",
   "execution_count": 61,
   "id": "591860f3",
   "metadata": {},
   "outputs": [
    {
     "data": {
      "text/plain": [
       "694"
      ]
     },
     "execution_count": 61,
     "metadata": {},
     "output_type": "execute_result"
    }
   ],
   "source": [
    "df_M0.last_purchase_days.max()"
   ]
  },
  {
   "cell_type": "code",
   "execution_count": 62,
   "id": "b7b22904",
   "metadata": {},
   "outputs": [
    {
     "data": {
      "text/plain": [
       "('2017-10-04 14:43:07', '2016-10-03 16:56:50')"
      ]
     },
     "execution_count": 62,
     "metadata": {},
     "output_type": "execute_result"
    }
   ],
   "source": [
    "df_M0.last_purchase_by_order.max(), df_M0.last_purchase_by_order.min()"
   ]
  },
  {
   "cell_type": "code",
   "execution_count": 63,
   "id": "72e8fd65",
   "metadata": {},
   "outputs": [
    {
     "data": {
      "text/plain": [
       "329"
      ]
     },
     "execution_count": 63,
     "metadata": {},
     "output_type": "execute_result"
    }
   ],
   "source": [
    "jour_ = df_M0.last_purchase_days.min()\n",
    "jour_"
   ]
  },
  {
   "cell_type": "code",
   "execution_count": 64,
   "id": "ad44c8d5",
   "metadata": {},
   "outputs": [
    {
     "data": {
      "text/plain": [
       "'2017-11-03 14:50:46'"
      ]
     },
     "execution_count": 64,
     "metadata": {},
     "output_type": "execute_result"
    }
   ],
   "source": [
    "df.loc[df.last_purchase_days > 298].last_purchase_by_order.max()"
   ]
  },
  {
   "cell_type": "code",
   "execution_count": 65,
   "id": "6cc827bf",
   "metadata": {},
   "outputs": [
    {
     "data": {
      "text/plain": [
       "11"
      ]
     },
     "execution_count": 65,
     "metadata": {},
     "output_type": "execute_result"
    }
   ],
   "source": [
    "# création de nouveau df avec un ajout de 1 mois pour l'analyse du comportement des achats clients\n",
    "\n",
    "Dataframe = []\n",
    "\n",
    "while(jour_ > 0):\n",
    "    \n",
    "    jour_ -=  31\n",
    "    Dataframe.append(df.loc[df.last_purchase_days > jour_])\n",
    "    \n",
    "len(Dataframe)"
   ]
  },
  {
   "cell_type": "code",
   "execution_count": 66,
   "id": "ed2e7dac",
   "metadata": {},
   "outputs": [
    {
     "name": "stdout",
     "output_type": "stream",
     "text": [
      "df_M0, date_recente :  2017-10-04 14:43:07, date_ancienne :  2016-10-03 16:56:50\n",
      "df_M1, date_recente :  2017-11-03 14:50:46, date_ancienne :  2016-10-03 16:56:50\n",
      "df_M2, date_recente :  2017-12-04 14:59:26, date_ancienne :  2016-10-03 16:56:50\n",
      "df_M3, date_recente :  2018-01-04 14:57:28, date_ancienne :  2016-10-03 16:56:50\n",
      "df_M4, date_recente :  2018-02-04 14:54:53, date_ancienne :  2016-10-03 16:56:50\n",
      "df_M5, date_recente :  2018-03-07 14:59:13, date_ancienne :  2016-10-03 16:56:50\n",
      "df_M6, date_recente :  2018-04-07 14:56:02, date_ancienne :  2016-10-03 16:56:50\n",
      "df_M7, date_recente :  2018-05-08 14:53:17, date_ancienne :  2016-10-03 16:56:50\n",
      "df_M8, date_recente :  2018-06-08 14:59:48, date_ancienne :  2016-10-03 16:56:50\n",
      "df_M9, date_recente :  2018-07-09 14:59:01, date_ancienne :  2016-10-03 16:56:50\n",
      "df_M10, date_recente :  2018-08-09 14:59:56, date_ancienne :  2016-10-03 16:56:50\n",
      "df_M11, date_recente :  2018-08-29 15:00:37, date_ancienne :  2016-10-03 16:56:50\n"
     ]
    }
   ],
   "source": [
    "df_M1 = Dataframe[0]\n",
    "df_M2 = Dataframe[1]\n",
    "df_M3 = Dataframe[2]\n",
    "df_M4 = Dataframe[3]\n",
    "df_M5 = Dataframe[4]\n",
    "df_M6 = Dataframe[5]\n",
    "df_M7 = Dataframe[6]\n",
    "df_M8 = Dataframe[7]\n",
    "df_M9 = Dataframe[8]\n",
    "df_M10 = Dataframe[9]\n",
    "df_M11 = Dataframe[10]\n",
    "#df_M12 = Dataframe[11]\n",
    "\n",
    "print(f'df_M0, date_recente :  {df_M0.last_purchase_by_order.max()}, date_ancienne :  {df_M0.last_purchase_by_order.min()}')\n",
    "\n",
    "\n",
    "i = 1\n",
    "for DF in Dataframe:\n",
    "    print(f'df_M{i}, date_recente :  {DF.last_purchase_by_order.max()}, date_ancienne :  {DF.last_purchase_by_order.min()}')\n",
    "    i += 1"
   ]
  },
  {
   "cell_type": "code",
   "execution_count": 67,
   "id": "700b41bc",
   "metadata": {},
   "outputs": [
    {
     "data": {
      "text/plain": [
       "('2017-10-04 14:43:07', '2016-10-03 16:56:50')"
      ]
     },
     "execution_count": 67,
     "metadata": {},
     "output_type": "execute_result"
    }
   ],
   "source": [
    "df_M0.last_purchase_by_order.max(),df_M0.last_purchase_by_order.min()"
   ]
  },
  {
   "cell_type": "markdown",
   "id": "f985c4a3",
   "metadata": {},
   "source": [
    "#### 2.1 Evaluation du score\n",
    "\n",
    "- evaluation du comportement client par rapport à leurs achats antérieurs "
   ]
  },
  {
   "cell_type": "code",
   "execution_count": 68,
   "id": "77dba552",
   "metadata": {},
   "outputs": [
    {
     "name": "stderr",
     "output_type": "stream",
     "text": [
      "C:\\Users\\Dragomir\\AppData\\Local\\Temp\\ipykernel_7804\\4080212165.py:17: SettingWithCopyWarning: \n",
      "A value is trying to be set on a copy of a slice from a DataFrame.\n",
      "Try using .loc[row_indexer,col_indexer] = value instead\n",
      "\n",
      "See the caveats in the documentation: https://pandas.pydata.org/pandas-docs/stable/user_guide/indexing.html#returning-a-view-versus-a-copy\n",
      "  df_M0['cluster'] = E0.predict(df_M0[var_RFM])\n"
     ]
    }
   ],
   "source": [
    "# analyse le compoortement des achats clients sur une année\n",
    "\n",
    "scaled = StandardScaler()\n",
    "\n",
    "# df_stand_M0['log_average_payment_order'] = np.log1p(df_stand_M0.average_payment_order.values)\n",
    "\n",
    "var_RFM = ['nb_order',\n",
    "           'review_score',\n",
    "           'late_delivered_days',\n",
    "           'last_purchase_days',\n",
    "           'log_average_payment_order']\n",
    "\n",
    "E0 = pipe(4,scaled)\n",
    "\n",
    "E0.fit(df_M0[var_RFM])\n",
    "\n",
    "df_M0['cluster'] = E0.predict(df_M0[var_RFM])\n"
   ]
  },
  {
   "cell_type": "code",
   "execution_count": 69,
   "id": "89544d29",
   "metadata": {},
   "outputs": [],
   "source": [
    "ARI_M0 = 1\n",
    "df_list = [df_M1,df_M2,df_M3,df_M4,df_M5,df_M6,df_M7,df_M8,df_M9,df_M10]\n",
    "clust_list = []\n",
    "score_ARI = []\n",
    "date_df = []\n",
    "score_ARI.append(1)\n",
    "date_df.append(df_M0.last_purchase_by_order.max())"
   ]
  },
  {
   "cell_type": "code",
   "execution_count": 70,
   "id": "7af79c08",
   "metadata": {},
   "outputs": [
    {
     "data": {
      "text/html": [
       "<div>\n",
       "<style scoped>\n",
       "    .dataframe tbody tr th:only-of-type {\n",
       "        vertical-align: middle;\n",
       "    }\n",
       "\n",
       "    .dataframe tbody tr th {\n",
       "        vertical-align: top;\n",
       "    }\n",
       "\n",
       "    .dataframe thead th {\n",
       "        text-align: right;\n",
       "    }\n",
       "</style>\n",
       "<table border=\"1\" class=\"dataframe\">\n",
       "  <thead>\n",
       "    <tr style=\"text-align: right;\">\n",
       "      <th></th>\n",
       "      <th>customer_unique_id</th>\n",
       "      <th>number_order_item</th>\n",
       "      <th>review_score</th>\n",
       "      <th>average_payment_order</th>\n",
       "      <th>last_purchase_by_order</th>\n",
       "      <th>late_delivered_days</th>\n",
       "      <th>last_purchase_days</th>\n",
       "      <th>nb_order</th>\n",
       "      <th>log_average_payment_order</th>\n",
       "    </tr>\n",
       "  </thead>\n",
       "  <tbody>\n",
       "    <tr>\n",
       "      <th>0</th>\n",
       "      <td>0000366f3b9a7992bf8c76cfdf3221e2</td>\n",
       "      <td>1</td>\n",
       "      <td>5.0</td>\n",
       "      <td>141.90</td>\n",
       "      <td>2018-05-10 10:56:27</td>\n",
       "      <td>-5</td>\n",
       "      <td>111</td>\n",
       "      <td>1</td>\n",
       "      <td>4.962145</td>\n",
       "    </tr>\n",
       "    <tr>\n",
       "      <th>1</th>\n",
       "      <td>0000b849f77a49e4a4ce2b2a4ca5be3f</td>\n",
       "      <td>1</td>\n",
       "      <td>4.0</td>\n",
       "      <td>27.19</td>\n",
       "      <td>2018-05-07 11:11:27</td>\n",
       "      <td>-5</td>\n",
       "      <td>114</td>\n",
       "      <td>1</td>\n",
       "      <td>3.338967</td>\n",
       "    </tr>\n",
       "    <tr>\n",
       "      <th>2</th>\n",
       "      <td>0000f46a3911fa3c0805444483337064</td>\n",
       "      <td>1</td>\n",
       "      <td>3.0</td>\n",
       "      <td>86.22</td>\n",
       "      <td>2017-03-10 21:05:03</td>\n",
       "      <td>-2</td>\n",
       "      <td>536</td>\n",
       "      <td>1</td>\n",
       "      <td>4.468434</td>\n",
       "    </tr>\n",
       "    <tr>\n",
       "      <th>3</th>\n",
       "      <td>0000f6ccb0745a6a4b88665a16c9f078</td>\n",
       "      <td>1</td>\n",
       "      <td>4.0</td>\n",
       "      <td>43.62</td>\n",
       "      <td>2017-10-12 20:29:41</td>\n",
       "      <td>-12</td>\n",
       "      <td>320</td>\n",
       "      <td>1</td>\n",
       "      <td>3.798182</td>\n",
       "    </tr>\n",
       "    <tr>\n",
       "      <th>4</th>\n",
       "      <td>0004aac84e0df4da2b147fca70cf8255</td>\n",
       "      <td>1</td>\n",
       "      <td>5.0</td>\n",
       "      <td>196.89</td>\n",
       "      <td>2017-11-14 19:45:42</td>\n",
       "      <td>-8</td>\n",
       "      <td>287</td>\n",
       "      <td>1</td>\n",
       "      <td>5.287711</td>\n",
       "    </tr>\n",
       "    <tr>\n",
       "      <th>...</th>\n",
       "      <td>...</td>\n",
       "      <td>...</td>\n",
       "      <td>...</td>\n",
       "      <td>...</td>\n",
       "      <td>...</td>\n",
       "      <td>...</td>\n",
       "      <td>...</td>\n",
       "      <td>...</td>\n",
       "      <td>...</td>\n",
       "    </tr>\n",
       "    <tr>\n",
       "      <th>90581</th>\n",
       "      <td>fffcf5a5ff07b0908bd4e2dbc735a684</td>\n",
       "      <td>1</td>\n",
       "      <td>5.0</td>\n",
       "      <td>919.14</td>\n",
       "      <td>2017-06-08 21:00:36</td>\n",
       "      <td>-27</td>\n",
       "      <td>446</td>\n",
       "      <td>1</td>\n",
       "      <td>6.824526</td>\n",
       "    </tr>\n",
       "    <tr>\n",
       "      <th>90582</th>\n",
       "      <td>fffea47cd6d3cc0a88bd621562a9d061</td>\n",
       "      <td>1</td>\n",
       "      <td>4.0</td>\n",
       "      <td>84.58</td>\n",
       "      <td>2017-12-10 20:07:56</td>\n",
       "      <td>-3</td>\n",
       "      <td>261</td>\n",
       "      <td>1</td>\n",
       "      <td>4.449452</td>\n",
       "    </tr>\n",
       "    <tr>\n",
       "      <th>90583</th>\n",
       "      <td>ffff371b4d645b6ecea244b27531430a</td>\n",
       "      <td>1</td>\n",
       "      <td>5.0</td>\n",
       "      <td>112.46</td>\n",
       "      <td>2017-02-07 15:49:16</td>\n",
       "      <td>-30</td>\n",
       "      <td>567</td>\n",
       "      <td>1</td>\n",
       "      <td>4.731450</td>\n",
       "    </tr>\n",
       "    <tr>\n",
       "      <th>90584</th>\n",
       "      <td>ffff5962728ec6157033ef9805bacc48</td>\n",
       "      <td>1</td>\n",
       "      <td>5.0</td>\n",
       "      <td>133.69</td>\n",
       "      <td>2018-05-02 15:17:41</td>\n",
       "      <td>-14</td>\n",
       "      <td>118</td>\n",
       "      <td>1</td>\n",
       "      <td>4.902976</td>\n",
       "    </tr>\n",
       "    <tr>\n",
       "      <th>90585</th>\n",
       "      <td>ffffd2657e2aad2907e67c3e9daecbeb</td>\n",
       "      <td>1</td>\n",
       "      <td>5.0</td>\n",
       "      <td>71.56</td>\n",
       "      <td>2017-05-02 20:18:45</td>\n",
       "      <td>-16</td>\n",
       "      <td>483</td>\n",
       "      <td>1</td>\n",
       "      <td>4.284414</td>\n",
       "    </tr>\n",
       "  </tbody>\n",
       "</table>\n",
       "<p>90586 rows × 9 columns</p>\n",
       "</div>"
      ],
      "text/plain": [
       "                     customer_unique_id  number_order_item  review_score  \\\n",
       "0      0000366f3b9a7992bf8c76cfdf3221e2                  1           5.0   \n",
       "1      0000b849f77a49e4a4ce2b2a4ca5be3f                  1           4.0   \n",
       "2      0000f46a3911fa3c0805444483337064                  1           3.0   \n",
       "3      0000f6ccb0745a6a4b88665a16c9f078                  1           4.0   \n",
       "4      0004aac84e0df4da2b147fca70cf8255                  1           5.0   \n",
       "...                                 ...                ...           ...   \n",
       "90581  fffcf5a5ff07b0908bd4e2dbc735a684                  1           5.0   \n",
       "90582  fffea47cd6d3cc0a88bd621562a9d061                  1           4.0   \n",
       "90583  ffff371b4d645b6ecea244b27531430a                  1           5.0   \n",
       "90584  ffff5962728ec6157033ef9805bacc48                  1           5.0   \n",
       "90585  ffffd2657e2aad2907e67c3e9daecbeb                  1           5.0   \n",
       "\n",
       "       average_payment_order last_purchase_by_order  late_delivered_days  \\\n",
       "0                     141.90    2018-05-10 10:56:27                   -5   \n",
       "1                      27.19    2018-05-07 11:11:27                   -5   \n",
       "2                      86.22    2017-03-10 21:05:03                   -2   \n",
       "3                      43.62    2017-10-12 20:29:41                  -12   \n",
       "4                     196.89    2017-11-14 19:45:42                   -8   \n",
       "...                      ...                    ...                  ...   \n",
       "90581                 919.14    2017-06-08 21:00:36                  -27   \n",
       "90582                  84.58    2017-12-10 20:07:56                   -3   \n",
       "90583                 112.46    2017-02-07 15:49:16                  -30   \n",
       "90584                 133.69    2018-05-02 15:17:41                  -14   \n",
       "90585                  71.56    2017-05-02 20:18:45                  -16   \n",
       "\n",
       "       last_purchase_days  nb_order  log_average_payment_order  \n",
       "0                     111         1                   4.962145  \n",
       "1                     114         1                   3.338967  \n",
       "2                     536         1                   4.468434  \n",
       "3                     320         1                   3.798182  \n",
       "4                     287         1                   5.287711  \n",
       "...                   ...       ...                        ...  \n",
       "90581                 446         1                   6.824526  \n",
       "90582                 261         1                   4.449452  \n",
       "90583                 567         1                   4.731450  \n",
       "90584                 118         1                   4.902976  \n",
       "90585                 483         1                   4.284414  \n",
       "\n",
       "[90586 rows x 9 columns]"
      ]
     },
     "execution_count": 70,
     "metadata": {},
     "output_type": "execute_result"
    }
   ],
   "source": [
    "df"
   ]
  },
  {
   "cell_type": "code",
   "execution_count": 71,
   "id": "ccd327ae",
   "metadata": {},
   "outputs": [
    {
     "name": "stdout",
     "output_type": "stream",
     "text": [
      "prediction des cluster E0_M1 et des cluster E1_M1\n",
      "prediction des cluster E0_M2 et des cluster E2_M2\n",
      "prediction des cluster E0_M3 et des cluster E3_M3\n",
      "prediction des cluster E0_M4 et des cluster E4_M4\n",
      "prediction des cluster E0_M5 et des cluster E5_M5\n",
      "prediction des cluster E0_M6 et des cluster E6_M6\n",
      "prediction des cluster E0_M7 et des cluster E7_M7\n",
      "prediction des cluster E0_M8 et des cluster E8_M8\n",
      "prediction des cluster E0_M9 et des cluster E9_M9\n",
      "prediction des cluster E0_M10 et des cluster E10_M10\n"
     ]
    }
   ],
   "source": [
    "\"\"\" Le but de cette fonction est d'avaluer la similarité de scluster en utilisant l'indice de rand ajusté.\n",
    "Je prédit les données du modèle M(1,2,3...) avec le pipeline E0 dans sur lequel \n",
    "j'ai déja entrainé les données du df_M0 datant de ('2017-10-04 14:43:07', '2016-10-03 16:56:50').\n",
    "J'utilise le ARI score qui évalue la concordance des deux cluster prédis EO et EV ( qui n'est autre df_M1,df_M2 ...)\"\"\"\n",
    "\n",
    "i = 1\n",
    "\n",
    "for df_Modele in df_list:\n",
    "    \n",
    "    print(f'prediction des cluster E0_M{i} et des cluster E{i}_M{i}')\n",
    "    # instanciation du pipeline(cluster_kmeans,standarisation)\n",
    "    EV = pipe(4,scaled)\n",
    "    # standardise et crée 4 cluster\n",
    "    EV.fit(df_Modele[var_RFM])\n",
    "    \n",
    "    cluster_pred = EV.predict(df_Modele[var_RFM])\n",
    "    cluster_E0 = E0.predict(df_Modele[var_RFM])\n",
    "    # calucul de l'ARI score\n",
    "    score_ARI.append(adjusted_rand_score(cluster_E0, cluster_pred))\n",
    "    clust_list.append(cluster_pred)\n",
    "    date_df.append(df_Modele.last_purchase_by_order.max())\n",
    "    i+=1\n",
    "    "
   ]
  },
  {
   "cell_type": "code",
   "execution_count": 72,
   "id": "e42fe5a1",
   "metadata": {},
   "outputs": [
    {
     "data": {
      "text/plain": [
       "[1,\n",
       " 0.9829594651898792,\n",
       " 0.9238826731565912,\n",
       " 0.9260028327214461,\n",
       " 0.9211196610705614,\n",
       " 0.895772422111282,\n",
       " 0.8719383603090638,\n",
       " 0.903177086567974,\n",
       " 0.8981601398769629,\n",
       " 0.8754421962105624,\n",
       " 0.8502143995542613]"
      ]
     },
     "execution_count": 72,
     "metadata": {},
     "output_type": "execute_result"
    }
   ],
   "source": [
    "# Les scores obtenue entre le modele df_M0 qui est de 1  et df_M0 et (df_M1, df_M2...)  \n",
    "score_ARI"
   ]
  },
  {
   "cell_type": "code",
   "execution_count": 73,
   "id": "3eaff8e6",
   "metadata": {},
   "outputs": [
    {
     "data": {
      "text/plain": [
       "[datetime.datetime(2017, 10, 4, 14, 43, 7),\n",
       " datetime.datetime(2017, 11, 3, 14, 50, 46),\n",
       " datetime.datetime(2017, 12, 4, 14, 59, 26),\n",
       " datetime.datetime(2018, 1, 4, 14, 57, 28),\n",
       " datetime.datetime(2018, 2, 4, 14, 54, 53),\n",
       " datetime.datetime(2018, 3, 7, 14, 59, 13),\n",
       " datetime.datetime(2018, 4, 7, 14, 56, 2),\n",
       " datetime.datetime(2018, 5, 8, 14, 53, 17),\n",
       " datetime.datetime(2018, 6, 8, 14, 59, 48),\n",
       " datetime.datetime(2018, 7, 9, 14, 59, 1),\n",
       " datetime.datetime(2018, 8, 9, 14, 59, 56)]"
      ]
     },
     "execution_count": 73,
     "metadata": {},
     "output_type": "execute_result"
    }
   ],
   "source": [
    "from datetime import datetime\n",
    "date_df = [datetime.strptime(date, '%Y-%m-%d %H:%M:%S') for date in date_df]\n",
    "date_df"
   ]
  },
  {
   "cell_type": "markdown",
   "id": "ea93f30a",
   "metadata": {},
   "source": [
    "### Information sur l'ARI (Indice de Rand ajusté)\n",
    "\n",
    "- L'ARI est une mesure d'avaluation utilisé pour quantifier la similarité entre deux clusters\n",
    "- Un score proche de 1 alors les deux cluster évaluer seront similaire\n",
    "- Un score proche de zéro alors nous avons répartition hazardeuse des clusters\n",
    "- Un score équivalent à -1 alors les données des  clusters ne sont pas concordante"
   ]
  },
  {
   "cell_type": "code",
   "execution_count": 74,
   "id": "4e729fbc",
   "metadata": {},
   "outputs": [
    {
     "data": {
      "image/png": "[encoded data removed]",
      "text/plain": [
       "<Figure size 800x550 with 1 Axes>"
      ]
     },
     "metadata": {},
     "output_type": "display_data"
    }
   ],
   "source": [
    "from matplotlib.dates import DayLocator, HourLocator, DateFormatter, drange\n",
    "\n",
    "fig, ax = plt.subplots()\n",
    "\n",
    "x = date_df\n",
    "\n",
    "yerr = 0.01\n",
    "\n",
    "ax.errorbar(x, score_ARI, yerr=yerr, label='Score ARI')\n",
    "\n",
    "ax.set_xlabel('date ')\n",
    "\n",
    "ax.set_ylabel('Score ARI')\n",
    "\n",
    "#ax.set_xlim(date_df[0],date_df[-1])\n",
    "\n",
    "fig.autofmt_xdate(rotation=60)\n",
    "\n",
    "plt.legend(loc='lower left')\n",
    "\n",
    "plt.show()"
   ]
  },
  {
   "cell_type": "code",
   "execution_count": 75,
   "id": "379a3e60",
   "metadata": {},
   "outputs": [
    {
     "data": {
      "text/plain": [
       "329"
      ]
     },
     "execution_count": 75,
     "metadata": {},
     "output_type": "execute_result"
    }
   ],
   "source": [
    "jour_ = df_M0.last_purchase_days.min()\n",
    "jour_"
   ]
  },
  {
   "cell_type": "code",
   "execution_count": 76,
   "id": "a1a22e1c",
   "metadata": {},
   "outputs": [
    {
     "data": {
      "text/plain": [
       "Index(['customer_unique_id', 'number_order_item', 'review_score',\n",
       "       'average_payment_order', 'last_purchase_by_order',\n",
       "       'late_delivered_days', 'last_purchase_days', 'nb_order',\n",
       "       'log_average_payment_order'],\n",
       "      dtype='object')"
      ]
     },
     "execution_count": 76,
     "metadata": {},
     "output_type": "execute_result"
    }
   ],
   "source": [
    "df.columns"
   ]
  },
  {
   "cell_type": "code",
   "execution_count": 77,
   "id": "5c162985",
   "metadata": {},
   "outputs": [
    {
     "name": "stdout",
     "output_type": "stream",
     "text": [
      "239\n",
      "149\n",
      "59\n",
      "-31\n"
     ]
    },
    {
     "data": {
      "text/plain": [
       "4"
      ]
     },
     "execution_count": 77,
     "metadata": {},
     "output_type": "execute_result"
    }
   ],
   "source": [
    "# création de nouveau df avec un ajout de 1 mois pour l'analyse du comportement des achats clients\n",
    "# Pourquoi avoir choisi d'entrainer vos cluster sur une année ? Cette année-ci était prolifique en terme de chiffre d'affaire\n",
    "\n",
    "Dataframe = []\n",
    "\n",
    "while(jour_ > 0):\n",
    "    \n",
    "    jour_ -=  90\n",
    "    print(jour_)\n",
    "    Dataframe.append(df.loc[df.last_purchase_days > jour_])\n",
    "    \n",
    "len(Dataframe)"
   ]
  },
  {
   "cell_type": "code",
   "execution_count": 78,
   "id": "4fd39754",
   "metadata": {},
   "outputs": [
    {
     "name": "stdout",
     "output_type": "stream",
     "text": [
      "df_M1, date_recente :  2018-01-01 14:54:19, date_ancienne :  2016-10-03 16:56:50\n",
      "df_M2, date_recente :  2018-04-01 14:57:38, date_ancienne :  2016-10-03 16:56:50\n",
      "df_M3, date_recente :  2018-06-30 14:52:27, date_ancienne :  2016-10-03 16:56:50\n",
      "df_M4, date_recente :  2018-08-29 15:00:37, date_ancienne :  2016-10-03 16:56:50\n"
     ]
    }
   ],
   "source": [
    "df_M1 = Dataframe[0]\n",
    "df_M2 = Dataframe[1]\n",
    "df_M3 = Dataframe[2]\n",
    "df_M4 = Dataframe[3]\n",
    "\n",
    "i = 1\n",
    "\n",
    "for DF in Dataframe:\n",
    "    print(f'df_M{i}, date_recente :  {DF.last_purchase_by_order.max()}, date_ancienne :  {DF.last_purchase_by_order.min()}')\n",
    "    i += 1"
   ]
  },
  {
   "cell_type": "code",
   "execution_count": 79,
   "id": "97a2bc18",
   "metadata": {},
   "outputs": [],
   "source": [
    "ARI_M0 = 1\n",
    "df_list = [df_M1,df_M2,df_M3,df_M4]\n",
    "clust_list = []\n",
    "score_ARI = []\n",
    "date_df = []\n",
    "score_ARI.append(1)\n",
    "date_df.append(df_M0.last_purchase_by_order.max())"
   ]
  },
  {
   "cell_type": "code",
   "execution_count": 80,
   "id": "f5c25452",
   "metadata": {},
   "outputs": [
    {
     "name": "stdout",
     "output_type": "stream",
     "text": [
      "prediction des cluster M0_M1\n",
      "prediction des cluster M0_M2\n",
      "prediction des cluster M0_M3\n",
      "prediction des cluster M0_M4\n"
     ]
    }
   ],
   "source": [
    "i = 1\n",
    "for df_Modele in df_list:\n",
    "    \n",
    "    print(f'prediction des cluster M0_M{i}')\n",
    "    # instanciation du pipeline(cluster_kmeans,standarisation)\n",
    "    Ev = pipe(4,scaled)\n",
    "    # Ev.fit standardise et crée 4 cluster\n",
    "    Ev.fit(df_Modele[var_RFM])\n",
    "    cluster_pred = Ev.predict(df_Modele[var_RFM])\n",
    "    cluster_E0 = E0.predict(df_Modele[var_RFM])\n",
    "    score_ARI.append(adjusted_rand_score(cluster_E0, cluster_pred))\n",
    "    clust_list.append(cluster_pred)\n",
    "    date_df.append(df_Modele.last_purchase_by_order.max())\n",
    "\n",
    "    i+=1\n",
    "    "
   ]
  },
  {
   "cell_type": "code",
   "execution_count": 81,
   "id": "a6fc2269",
   "metadata": {},
   "outputs": [
    {
     "data": {
      "text/plain": [
       "[1,\n",
       " 0.9272173601856883,\n",
       " 0.8745472265243661,\n",
       " 0.8793983856116918,\n",
       " 0.8160696371545345]"
      ]
     },
     "execution_count": 81,
     "metadata": {},
     "output_type": "execute_result"
    }
   ],
   "source": [
    "score_ARI"
   ]
  },
  {
   "cell_type": "code",
   "execution_count": 82,
   "id": "bde36da8",
   "metadata": {},
   "outputs": [
    {
     "data": {
      "text/plain": [
       "[datetime.datetime(2017, 10, 4, 14, 43, 7),\n",
       " datetime.datetime(2018, 1, 1, 14, 54, 19),\n",
       " datetime.datetime(2018, 4, 1, 14, 57, 38),\n",
       " datetime.datetime(2018, 6, 30, 14, 52, 27),\n",
       " datetime.datetime(2018, 8, 29, 15, 0, 37)]"
      ]
     },
     "execution_count": 82,
     "metadata": {},
     "output_type": "execute_result"
    }
   ],
   "source": [
    "date_df = [datetime.strptime(date, '%Y-%m-%d %H:%M:%S') for date in date_df]\n",
    "date_df"
   ]
  },
  {
   "cell_type": "code",
   "execution_count": 83,
   "id": "6dbd02a1",
   "metadata": {},
   "outputs": [
    {
     "data": {
      "image/png": "[encoded data removed]",
      "text/plain": [
       "<Figure size 800x550 with 1 Axes>"
      ]
     },
     "metadata": {},
     "output_type": "display_data"
    }
   ],
   "source": [
    "from matplotlib.dates import DayLocator, HourLocator, DateFormatter, drange\n",
    "\n",
    "\n",
    "fig, ax = plt.subplots()\n",
    "\n",
    "x = date_df\n",
    "\n",
    "yerr = 0.01\n",
    "\n",
    "ax.errorbar(x, score_ARI, yerr=yerr, label='Score ARI')\n",
    "\n",
    "ax.set_xlabel('date ')\n",
    "\n",
    "ax.set_ylabel('Score ARI')\n",
    "\n",
    "fig.autofmt_xdate(rotation=60)\n",
    "\n",
    "plt.legend(loc='lower left')\n",
    "\n",
    "plt.show()"
   ]
  }
 ],
 "metadata": {
  "kernelspec": {
   "display_name": "Python 3 (ipykernel)",
   "language": "python",
   "name": "python3"
  },
  "language_info": {
   "codemirror_mode": {
    "name": "ipython",
    "version": 3
   },
   "file_extension": ".py",
   "mimetype": "text/x-python",
   "name": "python",
   "nbconvert_exporter": "python",
   "pygments_lexer": "ipython3",
   "version": "3.9.13"
  }
 },
 "nbformat": 4,
 "nbformat_minor": 5
}
